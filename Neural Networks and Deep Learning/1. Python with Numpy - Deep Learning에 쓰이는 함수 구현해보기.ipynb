{
 "cells": [
  {
   "cell_type": "code",
   "execution_count": 16,
   "id": "3c6b9c84",
   "metadata": {},
   "outputs": [],
   "source": [
    "import math\n",
    "import numpy as np"
   ]
  },
  {
   "cell_type": "code",
   "execution_count": 17,
   "id": "95727b0a",
   "metadata": {},
   "outputs": [
    {
     "name": "stdout",
     "output_type": "stream",
     "text": [
      "0.7310585786300049\n"
     ]
    }
   ],
   "source": [
    "# 기존 Python 라이브러리를 이용한 Sigmoid 함수 구현\n",
    "def python_sigmoid(x):\n",
    "    s = 1 / (1 + math.exp(-x))\n",
    "    return s\n",
    "\n",
    "print(python_sigmoid(1))"
   ]
  },
  {
   "cell_type": "code",
   "execution_count": 23,
   "id": "2ded77fa",
   "metadata": {
    "scrolled": true
   },
   "outputs": [
    {
     "ename": "TypeError",
     "evalue": "only size-1 arrays can be converted to Python scalars",
     "output_type": "error",
     "traceback": [
      "\u001b[1;31m---------------------------------------------------------------------------\u001b[0m",
      "\u001b[1;31mTypeError\u001b[0m                                 Traceback (most recent call last)",
      "Input \u001b[1;32mIn [23]\u001b[0m, in \u001b[0;36m<cell line: 2>\u001b[1;34m()\u001b[0m\n\u001b[0;32m      1\u001b[0m x \u001b[38;5;241m=\u001b[39m np\u001b[38;5;241m.\u001b[39marray([\u001b[38;5;241m1\u001b[39m, \u001b[38;5;241m2\u001b[39m, \u001b[38;5;241m3\u001b[39m, \u001b[38;5;241m4\u001b[39m, \u001b[38;5;241m5\u001b[39m])\n\u001b[1;32m----> 2\u001b[0m \u001b[43mpython_sigmoid\u001b[49m\u001b[43m(\u001b[49m\u001b[43mx\u001b[49m\u001b[43m)\u001b[49m\n",
      "Input \u001b[1;32mIn [17]\u001b[0m, in \u001b[0;36mpython_sigmoid\u001b[1;34m(x)\u001b[0m\n\u001b[0;32m      2\u001b[0m \u001b[38;5;28;01mdef\u001b[39;00m \u001b[38;5;21mpython_sigmoid\u001b[39m(x):\n\u001b[1;32m----> 3\u001b[0m     s \u001b[38;5;241m=\u001b[39m \u001b[38;5;241m1\u001b[39m \u001b[38;5;241m/\u001b[39m (\u001b[38;5;241m1\u001b[39m \u001b[38;5;241m+\u001b[39m \u001b[43mmath\u001b[49m\u001b[38;5;241;43m.\u001b[39;49m\u001b[43mexp\u001b[49m\u001b[43m(\u001b[49m\u001b[38;5;241;43m-\u001b[39;49m\u001b[43mx\u001b[49m\u001b[43m)\u001b[49m)\n\u001b[0;32m      4\u001b[0m     \u001b[38;5;28;01mreturn\u001b[39;00m s\n",
      "\u001b[1;31mTypeError\u001b[0m: only size-1 arrays can be converted to Python scalars"
     ]
    }
   ],
   "source": [
    "x = np.array([1, 2, 3, 4, 5])\n",
    "python_sigmoid(x)"
   ]
  },
  {
   "cell_type": "markdown",
   "id": "9ab0d145",
   "metadata": {},
   "source": [
    "# 1. Sigmoid"
   ]
  },
  {
   "cell_type": "code",
   "execution_count": 25,
   "id": "a00ec950",
   "metadata": {},
   "outputs": [
    {
     "data": {
      "text/plain": [
       "array([0.73105858, 0.88079708, 0.95257413, 0.98201379, 0.99330715])"
      ]
     },
     "execution_count": 25,
     "metadata": {},
     "output_type": "execute_result"
    }
   ],
   "source": [
    "# 시그모이드 함수\n",
    "def sigmoid(x):\n",
    "    s = 1 / (1 + np.exp(-x))\n",
    "    return s\n",
    "\n",
    "# 한번에 여러 훈련 예제를 계산 가능!\n",
    "sigmoid(x)"
   ]
  },
  {
   "cell_type": "markdown",
   "id": "a9147c74",
   "metadata": {},
   "source": [
    "**기존 Python 라이브러리 사용시 문제점:**\n",
    "- 리스트 연산 불가, 훈련 예제가 n개일 경우 n번 반복해서 결과값을 저장해야됨.\n",
    "- numpy 연산을 통히 이를 한번에 처리할 수 있음.\n"
   ]
  },
  {
   "cell_type": "markdown",
   "id": "186f326f",
   "metadata": {},
   "source": [
    "### 시그모이드 미분 공식: $\\sigma'(x) = \\sigma(x) (1 - \\sigma(x))$"
   ]
  },
  {
   "cell_type": "code",
   "execution_count": 27,
   "id": "c858bf71",
   "metadata": {},
   "outputs": [],
   "source": [
    "# 시그모이드 미분 함수\n",
    "def sigmoid_derivative(x):\n",
    "    s = sigmoid(x)\n",
    "    ds = s * (1- s)\n",
    "    return ds"
   ]
  },
  {
   "cell_type": "markdown",
   "id": "b7a76a78",
   "metadata": {},
   "source": [
    "# 2. image to vector"
   ]
  },
  {
   "cell_type": "code",
   "execution_count": 28,
   "id": "6ed366ed",
   "metadata": {},
   "outputs": [],
   "source": [
    "# 다차원 배열의 이미지 데이터를 1차원 배열로 만들어주는 함수\n",
    "def image2vector(image):\n",
    "    v = image.reshape(-1, 1)\n",
    "    return v"
   ]
  },
  {
   "cell_type": "code",
   "execution_count": 33,
   "id": "11726656",
   "metadata": {},
   "outputs": [
    {
     "name": "stdout",
     "output_type": "stream",
     "text": [
      "[[0.67826139]\n",
      " [0.29380381]\n",
      " [0.90714982]\n",
      " [0.52835647]\n",
      " [0.4215251 ]\n",
      " [0.45017551]\n",
      " [0.92814219]\n",
      " [0.96677647]\n",
      " [0.85304703]\n",
      " [0.52351845]\n",
      " [0.19981397]\n",
      " [0.27417313]\n",
      " [0.60659855]\n",
      " [0.00533165]\n",
      " [0.10820313]\n",
      " [0.49978937]\n",
      " [0.34144279]\n",
      " [0.94630077]]\n"
     ]
    }
   ],
   "source": [
    "test_image = np.array([[[ 0.67826139,  0.29380381],\n",
    "                     [ 0.90714982,  0.52835647],\n",
    "                     [ 0.4215251 ,  0.45017551]],\n",
    "                     [[ 0.92814219,  0.96677647],\n",
    "                     [ 0.85304703,  0.52351845],\n",
    "                     [ 0.19981397,  0.27417313]],\n",
    "                     [[ 0.60659855,  0.00533165],\n",
    "                     [ 0.10820313,  0.49978937],\n",
    "                     [ 0.34144279,  0.94630077]]])\n",
    "print(image2vector(t_image))"
   ]
  },
  {
   "cell_type": "markdown",
   "id": "84dee593",
   "metadata": {},
   "source": [
    "# 3. Normalize"
   ]
  },
  {
   "cell_type": "code",
   "execution_count": 30,
   "id": "e206e23a",
   "metadata": {},
   "outputs": [],
   "source": [
    "# 정규화를 통해 Gradient discent가 더욱 빠르게 수렴!\n",
    "def normalize(x):\n",
    "    # 이 함수는 row를 기준으로 정규화!, axis를 바꿔줌으로써 정규화 기준 행과 열을 바꿀 수 있음.\n",
    "    x = x / np.linalg.norm(x, ord=2, axis=1, keepdims=True)\n",
    "    return x"
   ]
  },
  {
   "cell_type": "markdown",
   "id": "c9b4aebc",
   "metadata": {},
   "source": [
    "# 4. softmax: 두개 이상의 클래스를 분류할 때 사용하는 정규화 함수"
   ]
  },
  {
   "cell_type": "code",
   "execution_count": 32,
   "id": "b3128883",
   "metadata": {},
   "outputs": [],
   "source": [
    "def softmax(x):\n",
    "    x_exp = np.exp(x)\n",
    "    x_sum = np.sum(x_exp, axis=1, keepdims=True)\n",
    "    s = x_exp / x_sum\n",
    "    return s"
   ]
  },
  {
   "cell_type": "markdown",
   "id": "2f272eaf",
   "metadata": {},
   "source": [
    "# 5. L1 and L2 loss functions"
   ]
  },
  {
   "cell_type": "code",
   "execution_count": 34,
   "id": "bc7b7fa8",
   "metadata": {},
   "outputs": [],
   "source": [
    "# L1 손실함수와 L2 손실함수 구현\n",
    "def L1(yhat, y):\n",
    "    loss = np.sum(np.abs(y - yhat))\n",
    "    return loss\n",
    "\n",
    "def L2(yhat, y):\n",
    "    loss = np.sum(np.dot(y - yhat, y - yhat))\n",
    "    return loss"
   ]
  },
  {
   "cell_type": "code",
   "execution_count": null,
   "id": "98f0d68d",
   "metadata": {},
   "outputs": [],
   "source": []
  }
 ],
 "metadata": {
  "kernelspec": {
   "display_name": "Python 3 (ipykernel)",
   "language": "python",
   "name": "python3"
  },
  "language_info": {
   "codemirror_mode": {
    "name": "ipython",
    "version": 3
   },
   "file_extension": ".py",
   "mimetype": "text/x-python",
   "name": "python",
   "nbconvert_exporter": "python",
   "pygments_lexer": "ipython3",
   "version": "3.9.12"
  }
 },
 "nbformat": 4,
 "nbformat_minor": 5
}
