{
 "cells": [
  {
   "cell_type": "markdown",
   "id": "629c7f04",
   "metadata": {},
   "source": [
    "# Vectorization"
   ]
  },
  {
   "cell_type": "code",
   "execution_count": null,
   "id": "a1c507a7",
   "metadata": {},
   "outputs": [
    {
     "ename": "",
     "evalue": "",
     "output_type": "error",
     "traceback": [
      "\u001b[1;31mRunning cells with 'Python 3.9.13 64-bit' requires ipykernel package.\n",
      "Run the following command to install 'ipykernel' into the Python environment. \n",
      "Command: 'c:/Users/rlask/AppData/Local/Programs/Python/Python39/python.exe -m pip install ipykernel -U --user --force-reinstall'"
     ]
    }
   ],
   "source": [
    "import numpy as np\n",
    "\n",
    "a = np.array([1, 2, 3, 4])\n",
    "print(a)"
   ]
  },
  {
   "cell_type": "code",
   "execution_count": null,
   "id": "91bd3e28",
   "metadata": {},
   "outputs": [
    {
     "name": "stdout",
     "output_type": "stream",
     "text": [
      "249805.63179205012\n",
      "Vectorized version:0.9949207305908203ms\n",
      "249805.63179205044\n",
      "For loop:1079.5931816101074ms\n"
     ]
    },
    {
     "ename": "",
     "evalue": "",
     "output_type": "error",
     "traceback": [
      "\u001b[1;31mRunning cells with 'Python 3.9.13 64-bit' requires ipykernel package.\n",
      "Run the following command to install 'ipykernel' into the Python environment. \n",
      "Command: 'c:/Users/rlask/AppData/Local/Programs/Python/Python39/python.exe -m pip install ipykernel -U --user --force-reinstall'"
     ]
    }
   ],
   "source": [
    "import time\n",
    "\n",
    "a = np.random.rand(1000000)\n",
    "b = np.random.rand(1000000)\n",
    "\n",
    "tic = time.time()\n",
    "c = np.dot(a, b)\n",
    "toc = time.time()\n",
    "\n",
    "print(c)\n",
    "print(\"Vectorized version:\" + str(1000*(toc-tic)) + \"ms\")\n",
    "\n",
    "\n",
    "c = 0\n",
    "tic = time.time()\n",
    "for i in range(1000000):\n",
    "    c += a[i] * b[i]\n",
    "toc = time.time()\n",
    "\n",
    "print(c)\n",
    "print(\"For loop:\" + str(1000*(toc-tic)) + \"ms\")\n",
    "\n",
    "# 벡터 연산을 통해 무려 300배 빠르게 수행\n",
    "# 벡터화로 코드 속도를 크게 높일 수 있음\n",
    "# 명시적 for 루프를 사용하지 말자!\n",
    "# 벡터 연산은 simd 연산을 실행하는데 cpu보다, gpu에서 더 잘 작동한다. 이것이 바로 딥러닝에서 gpu를 사용하는 이유이다."
   ]
  },
  {
   "cell_type": "markdown",
   "id": "e98a7a7d",
   "metadata": {},
   "source": [
    "# Broadcasting"
   ]
  },
  {
   "cell_type": "code",
   "execution_count": 10,
   "id": "6af8f86c",
   "metadata": {},
   "outputs": [
    {
     "name": "stdout",
     "output_type": "stream",
     "text": [
      "[[ 56.    0.    4.4  68. ]\n",
      " [  1.2 104.   52.    8. ]\n",
      " [  1.8 135.   99.    0.9]]\n"
     ]
    }
   ],
   "source": [
    "A = np.array([[56.0, 0.0, 4.4, 68.0],\n",
    "             [1.2, 104.0, 52.0, 8.0],\n",
    "             [1.8, 135.0, 99.0, 0.9]])\n",
    "print(A)"
   ]
  },
  {
   "cell_type": "code",
   "execution_count": 11,
   "id": "37d97c52",
   "metadata": {},
   "outputs": [
    {
     "name": "stdout",
     "output_type": "stream",
     "text": [
      "[ 59.  239.  155.4  76.9]\n"
     ]
    }
   ],
   "source": [
    "cal = A.sum(axis=0)\n",
    "print(cal)"
   ]
  },
  {
   "cell_type": "code",
   "execution_count": 13,
   "id": "edefac2d",
   "metadata": {},
   "outputs": [
    {
     "name": "stdout",
     "output_type": "stream",
     "text": [
      "[[94.91525424  0.          2.83140283 88.42652796]\n",
      " [ 2.03389831 43.51464435 33.46203346 10.40312094]\n",
      " [ 3.05084746 56.48535565 63.70656371  1.17035111]]\n"
     ]
    }
   ],
   "source": [
    "# reshape로 항상 계산 행렬 확인하기!\n",
    "percentage = 100 * A /cal\n",
    "print(percentage)"
   ]
  },
  {
   "cell_type": "markdown",
   "id": "b6ed36c3",
   "metadata": {},
   "source": [
    "# Python-Numpy Vectors"
   ]
  },
  {
   "cell_type": "code",
   "execution_count": 14,
   "id": "f25c2c68",
   "metadata": {},
   "outputs": [],
   "source": [
    "a = np.random.randn(5)"
   ]
  },
  {
   "cell_type": "code",
   "execution_count": 15,
   "id": "a8491b36",
   "metadata": {},
   "outputs": [
    {
     "name": "stdout",
     "output_type": "stream",
     "text": [
      "[ 1.81208966  0.56684394 -0.8774304  -0.07281822  0.81444435]\n"
     ]
    }
   ],
   "source": [
    "print(a)"
   ]
  },
  {
   "cell_type": "code",
   "execution_count": 16,
   "id": "a53ed491",
   "metadata": {},
   "outputs": [
    {
     "name": "stdout",
     "output_type": "stream",
     "text": [
      "(5,)\n"
     ]
    }
   ],
   "source": [
    "print(a.shape)"
   ]
  },
  {
   "cell_type": "code",
   "execution_count": 17,
   "id": "1c5c40cd",
   "metadata": {},
   "outputs": [
    {
     "name": "stdout",
     "output_type": "stream",
     "text": [
      "[ 1.81208966  0.56684394 -0.8774304  -0.07281822  0.81444435]\n"
     ]
    }
   ],
   "source": [
    "print(a.T)"
   ]
  },
  {
   "cell_type": "code",
   "execution_count": 23,
   "id": "0c25691f",
   "metadata": {},
   "outputs": [
    {
     "name": "stdout",
     "output_type": "stream",
     "text": [
      "[[ 1.13463592  0.99562893 -0.24605738 -1.93520706  0.93922676]\n",
      " [ 0.99562893  0.87365202 -0.2159123  -1.69812016  0.82415982]\n",
      " [-0.24605738 -0.2159123   0.05336006  0.41966941 -0.20368091]\n",
      " [-1.93520706 -1.69812016  0.41966941  3.30064147 -1.60192201]\n",
      " [ 0.93922676  0.82415982 -0.20368091 -1.60192201  0.77747134]]\n"
     ]
    }
   ],
   "source": [
    "# 이렇게 행렬 연산이 이뤄진다.\n",
    "print(np.dot(a, a.T))"
   ]
  },
  {
   "cell_type": "code",
   "execution_count": 25,
   "id": "8c4011f8",
   "metadata": {},
   "outputs": [
    {
     "name": "stdout",
     "output_type": "stream",
     "text": [
      "[[ 1.80976746]\n",
      " [-1.2477939 ]\n",
      " [-0.58589205]\n",
      " [-0.11284145]\n",
      " [-0.57136738]]\n"
     ]
    }
   ],
   "source": [
    "# 해결책 2중 배열로 만들어주자!\n",
    "a = np.random.randn(5, 1)\n",
    "print(a)"
   ]
  },
  {
   "cell_type": "code",
   "execution_count": 24,
   "id": "6b8ed216",
   "metadata": {},
   "outputs": [
    {
     "name": "stdout",
     "output_type": "stream",
     "text": [
      "[[ 1.0651929   0.93469354 -0.23099796 -1.81676676  0.88174335]]\n"
     ]
    }
   ],
   "source": [
    "print(a.T)"
   ]
  },
  {
   "cell_type": "code",
   "execution_count": 26,
   "id": "74dbf93d",
   "metadata": {},
   "outputs": [
    {
     "name": "stdout",
     "output_type": "stream",
     "text": [
      "[[ 3.27525826 -2.2582168  -1.06032837 -0.20421679 -1.03404209]\n",
      " [-2.2582168   1.55698962  0.73107253  0.14080288  0.71294873]\n",
      " [-1.06032837  0.73107253  0.3432695   0.06611291  0.33475961]\n",
      " [-0.20421679  0.14080288  0.06611291  0.01273319  0.06447393]\n",
      " [-1.03404209  0.71294873  0.33475961  0.06447393  0.32646068]]\n"
     ]
    }
   ],
   "source": [
    "print(np.dot(a, a.T))"
   ]
  },
  {
   "cell_type": "code",
   "execution_count": 1,
   "id": "6f9c537e",
   "metadata": {},
   "outputs": [],
   "source": [
    "# 따라서 딥러닝에서는 1차원 배열을 사용하지 않는다! rank = 1 사용 X"
   ]
  },
  {
   "cell_type": "code",
   "execution_count": 13,
   "id": "20788289",
   "metadata": {},
   "outputs": [
    {
     "data": {
      "text/plain": [
       "(4, 3)"
      ]
     },
     "execution_count": 13,
     "metadata": {},
     "output_type": "execute_result"
    }
   ],
   "source": [
    "a = np.random.randn(4, 3)\n",
    "b = np.random.randn(1, 3)\n",
    "c = a * b\n",
    "c.shape"
   ]
  },
  {
   "cell_type": "code",
   "execution_count": 5,
   "id": "9734acd8",
   "metadata": {},
   "outputs": [
    {
     "name": "stdout",
     "output_type": "stream",
     "text": [
      "[[4 1]\n",
      " [1 9]]\n"
     ]
    }
   ],
   "source": [
    "a=np.array([[2,1],[1,3]])\n",
    "print(a*a)"
   ]
  },
  {
   "cell_type": "code",
   "execution_count": 9,
   "id": "3415b273",
   "metadata": {},
   "outputs": [
    {
     "data": {
      "text/plain": [
       "array([[-1.21079503,  0.44275064,  2.72334697,  0.79849848],\n",
       "       [ 0.64208263, -1.0241167 ,  0.89099385,  1.04517413],\n",
       "       [-0.55206954, -2.48449969,  0.16897241, -0.07320489]])"
      ]
     },
     "execution_count": 9,
     "metadata": {},
     "output_type": "execute_result"
    }
   ],
   "source": [
    "a = np.random.randn(4, 3)\n",
    "b = np.random.randn(4, 1)\n",
    "\n",
    "c = a.T + b.T\n",
    "c"
   ]
  },
  {
   "cell_type": "code",
   "execution_count": 12,
   "id": "950f3383",
   "metadata": {},
   "outputs": [
    {
     "name": "stdout",
     "output_type": "stream",
     "text": [
      "[[-0.52127415 -0.32564161  0.25019859]\n",
      " [ 1.30744768  0.55184409  0.13324774]\n",
      " [ 0.88111106  0.75354162  0.27823261]]\n",
      "[[ 1.54941791  0.09605016  0.24666319]\n",
      " [ 0.04123332  0.94055695  0.92487953]\n",
      " [-0.04554218 -0.93532162  0.82722667]]\n"
     ]
    },
    {
     "data": {
      "text/plain": [
       "array([[2.67242258, 0.10774265, 0.06467343],\n",
       "       [1.71864508, 1.18917927, 0.8925815 ],\n",
       "       [0.83719943, 1.42322711, 0.76171735]])"
      ]
     },
     "execution_count": 12,
     "metadata": {},
     "output_type": "execute_result"
    }
   ],
   "source": [
    "a = np.random.randn(4, 3)\n",
    "b = np.random.randn(1, 3)\n",
    "print(a)\n",
    "print(b)\n",
    "c = a ** 2 + b.T ** 2\n",
    "c"
   ]
  },
  {
   "cell_type": "code",
   "execution_count": null,
   "id": "8e8fdfb0",
   "metadata": {},
   "outputs": [],
   "source": []
  }
 ],
 "metadata": {
  "kernelspec": {
   "display_name": "Python 3.9.13 64-bit",
   "language": "python",
   "name": "python3"
  },
  "language_info": {
   "codemirror_mode": {
    "name": "ipython",
    "version": 3
   },
   "file_extension": ".py",
   "mimetype": "text/x-python",
   "name": "python",
   "nbconvert_exporter": "python",
   "pygments_lexer": "ipython3",
   "version": "3.9.13"
  },
  "vscode": {
   "interpreter": {
    "hash": "2e707a83f22cb892f6aabb6766e9d86a81efac9161d8e811096f98674f9b301c"
   }
  }
 },
 "nbformat": 4,
 "nbformat_minor": 5
}
